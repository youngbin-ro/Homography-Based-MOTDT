{
 "cells": [
  {
   "cell_type": "code",
   "execution_count": 4,
   "metadata": {},
   "outputs": [],
   "source": [
    "import cv2\n",
    "import os\n",
    "from tqdm import tqdm\n",
    "import glob"
   ]
  },
  {
   "cell_type": "code",
   "execution_count": 78,
   "metadata": {},
   "outputs": [
    {
     "data": {
      "text/plain": [
       "['uav0000305_00000_v',\n",
       " 'uav0000117_02622_v',\n",
       " 'uav0000339_00001_v',\n",
       " 'uav0000137_00458_v',\n",
       " 'uav0000086_00000_v',\n",
       " 'uav0000182_00000_v']"
      ]
     },
     "execution_count": 78,
     "metadata": {},
     "output_type": "execute_result"
    }
   ],
   "source": [
    "frame_path = \"./data/VisDrone2019/train_person/outputs_revised/\"\n",
    "video_names = os.listdir(frame_path)\n",
    "video_names"
   ]
  },
  {
   "cell_type": "code",
   "execution_count": 79,
   "metadata": {},
   "outputs": [
    {
     "name": "stderr",
     "output_type": "stream",
     "text": [
      "100%|██████████| 184/184 [00:06<00:00, 28.65it/s]\n",
      "100%|██████████| 349/349 [00:22<00:00, 15.42it/s]\n",
      "100%|██████████| 275/275 [00:09<00:00, 30.79it/s]\n",
      "100%|██████████| 233/233 [00:15<00:00, 14.64it/s]\n",
      "100%|██████████| 464/464 [00:09<00:00, 50.39it/s]\n",
      "100%|██████████| 363/363 [00:07<00:00, 54.33it/s]\n"
     ]
    }
   ],
   "source": [
    "for video_name in video_names:\n",
    "    img_folder = frame_path + video_name\n",
    "    video_path = img_folder + '.mp4'\n",
    "    img_paths = [os.path.join(img_folder, name) for name in os.listdir(img_folder)]\n",
    "    img_paths.sort()\n",
    "\n",
    "    # get width and height\n",
    "    sample_img = cv2.imread(img_paths[0], 0)\n",
    "    height, width = sample_img.shape[:2]\n",
    "\n",
    "    #this fourcc best compatible for avi\n",
    "    fourcc = cv2.VideoWriter_fourcc('M','J','P','G')\n",
    "    video=cv2.VideoWriter(video_path, fourcc, 25.0, (width, height))\n",
    "\n",
    "    for i in tqdm(img_paths):\n",
    "        x = cv2.imread(i)\n",
    "        video.write(x)\n",
    "\n",
    "    cv2.destroyAllWindows()\n",
    "    video.release()"
   ]
  }
 ],
 "metadata": {
  "kernelspec": {
   "display_name": "Python 3",
   "language": "python",
   "name": "python3"
  },
  "language_info": {
   "codemirror_mode": {
    "name": "ipython",
    "version": 3
   },
   "file_extension": ".py",
   "mimetype": "text/x-python",
   "name": "python",
   "nbconvert_exporter": "python",
   "pygments_lexer": "ipython3",
   "version": "3.6.8"
  }
 },
 "nbformat": 4,
 "nbformat_minor": 2
}
