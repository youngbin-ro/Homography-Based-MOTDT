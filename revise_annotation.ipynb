{
 "cells": [
  {
   "cell_type": "code",
   "execution_count": 21,
   "metadata": {},
   "outputs": [],
   "source": [
    "import numpy as np\n",
    "import os\n",
    "from collections import Counter"
   ]
  },
  {
   "cell_type": "code",
   "execution_count": 24,
   "metadata": {},
   "outputs": [
    {
     "data": {
      "text/plain": [
       "['uav0000182_00000_v.txt',\n",
       " 'uav0000305_00000_v.txt',\n",
       " 'uav0000268_05773_v.txt',\n",
       " 'uav0000117_02622_v.txt',\n",
       " 'uav0000339_00001_v.txt',\n",
       " 'uav0000086_00000_v.txt',\n",
       " 'uav0000137_00458_v.txt']"
      ]
     },
     "execution_count": 24,
     "metadata": {},
     "output_type": "execute_result"
    }
   ],
   "source": [
    "annot_path = \"/home/youngbin/Desktop/MOTDT/data/VisDrone2019/train_person/\"\n",
    "annot_files = [file for file in os.listdir(annot_path) if file.split('.')[-1]=='txt']\n",
    "annot_files"
   ]
  },
  {
   "cell_type": "code",
   "execution_count": 25,
   "metadata": {},
   "outputs": [
    {
     "name": "stdout",
     "output_type": "stream",
     "text": [
      "uav0000182_00000_v.txt\n",
      "Counter({10: 5882, 4: 5848, 5: 1970, 7: 1248, 8: 1047, 1: 845, 0: 769, 6: 359, 2: 330, 3: 142, 11: 1})\n",
      "\n",
      "uav0000305_00000_v.txt\n",
      "Counter({4: 3618, 10: 1066, 5: 541, 1: 540, 9: 264, 7: 222, 6: 77, 2: 63})\n",
      "\n",
      "uav0000268_05773_v.txt\n",
      "Counter({4: 8688, 5: 2066, 2: 1093, 1: 891, 7: 510, 6: 330})\n",
      "\n",
      "uav0000117_02622_v.txt\n",
      "Counter({1: 8164, 4: 4126, 2: 1506, 7: 1228, 0: 1184, 5: 923, 10: 778, 6: 456, 3: 49, 8: 49})\n",
      "\n",
      "uav0000339_00001_v.txt\n",
      "Counter({1: 3273, 4: 2967, 2: 2210, 0: 988, 5: 856, 3: 760, 10: 642, 8: 622, 7: 561, 6: 137})\n",
      "\n",
      "uav0000086_00000_v.txt\n",
      "Counter({1: 14899, 2: 7199, 0: 780, 10: 687, 3: 312})\n",
      "\n",
      "uav0000137_00458_v.txt\n",
      "Counter({4: 6574, 2: 5507, 3: 4759, 1: 3792, 10: 2970, 5: 486, 0: 273})\n",
      "\n"
     ]
    }
   ],
   "source": [
    "for file in annot_files:\n",
    "    with open(annot_path+file, 'r') as f:\n",
    "        lines = f.readlines()\n",
    "    annots = [line.replace('\\n', '').split(',') for line in lines]\n",
    "    categories = [int(annot[-3]) for annot in annots]\n",
    "    count = Counter(categories)\n",
    "    print(file)\n",
    "    print(count)\n",
    "    print()"
   ]
  },
  {
   "cell_type": "code",
   "execution_count": 35,
   "metadata": {},
   "outputs": [],
   "source": [
    "for file in annot_files:\n",
    "    f = open(annot_path+file.split('.')[0]+\"_only_person.txt\", 'w')\n",
    "    with open(annot_path+file, 'r') as f2:\n",
    "        lines = f2.readlines()\n",
    "    annots = [line.replace('\\n', '').split(',') for line in lines]\n",
    "    new_annot = \"\"\n",
    "    for annot in annots:\n",
    "        if (int(annot[-3]) == 1) or (int(annot[-3]) == 2):\n",
    "            cur_annot = \", \".join(annot) + '\\n'\n",
    "            new_annot += cur_annot\n",
    "    f.write(new_annot)        \n",
    "    f.close()"
   ]
  },
  {
   "cell_type": "code",
   "execution_count": null,
   "metadata": {},
   "outputs": [],
   "source": []
  },
  {
   "cell_type": "code",
   "execution_count": null,
   "metadata": {},
   "outputs": [],
   "source": []
  }
 ],
 "metadata": {
  "kernelspec": {
   "display_name": "Python 3",
   "language": "python",
   "name": "python3"
  },
  "language_info": {
   "codemirror_mode": {
    "name": "ipython",
    "version": 3
   },
   "file_extension": ".py",
   "mimetype": "text/x-python",
   "name": "python",
   "nbconvert_exporter": "python",
   "pygments_lexer": "ipython3",
   "version": "3.6.5"
  }
 },
 "nbformat": 4,
 "nbformat_minor": 2
}
